{
 "cells": [
  {
   "cell_type": "code",
   "execution_count": 13,
   "id": "f75f3456-ca32-4873-8575-ae2dcc02db2e",
   "metadata": {},
   "outputs": [],
   "source": [
    "import GUIChanges"
   ]
  },
  {
   "cell_type": "code",
   "execution_count": 9,
   "id": "59dd8aad-460b-4313-aeb8-7697e795e6ab",
   "metadata": {},
   "outputs": [
    {
     "data": {
      "text/plain": [
       "2"
      ]
     },
     "execution_count": 9,
     "metadata": {},
     "output_type": "execute_result"
    }
   ],
   "source": [
    "1+1"
   ]
  },
  {
   "cell_type": "code",
   "execution_count": 8,
   "id": "06bcf6c5-47e6-488f-a73a-d78d11b769dd",
   "metadata": {},
   "outputs": [
    {
     "ename": "SyntaxError",
     "evalue": "illegal target for annotation (1296769473.py, line 1)",
     "output_type": "error",
     "traceback": [
      "\u001b[0;36m  Cell \u001b[0;32mIn[8], line 1\u001b[0;36m\u001b[0m\n\u001b[0;31m    div.jp-Cell-outputWrapper:nth-child(5) > div:nth-child(1) > div:nth-child(1)\u001b[0m\n\u001b[0m    ^\u001b[0m\n\u001b[0;31mSyntaxError\u001b[0m\u001b[0;31m:\u001b[0m illegal target for annotation\n"
     ]
    }
   ],
   "source": [
    "div.jp-Cell-outputWrapper:nth-child(5) > div:nth-child(1) > div:nth-child(1)\n",
    "div.jp-Cell-outputWrapper:nth-child(5) > div:nth-child(1) > div:nth-child(1)"
   ]
  },
  {
   "cell_type": "code",
   "execution_count": null,
   "id": "9360d55c-2ca2-425b-9446-0760bc675fd3",
   "metadata": {},
   "outputs": [],
   "source": []
  }
 ],
 "metadata": {
  "kernelspec": {
   "display_name": "Python 3 (ipykernel)",
   "language": "python",
   "name": "python3"
  },
  "language_info": {
   "codemirror_mode": {
    "name": "ipython",
    "version": 3
   },
   "file_extension": ".py",
   "mimetype": "text/x-python",
   "name": "python",
   "nbconvert_exporter": "python",
   "pygments_lexer": "ipython3",
   "version": "3.10.12"
  }
 },
 "nbformat": 4,
 "nbformat_minor": 5
}
