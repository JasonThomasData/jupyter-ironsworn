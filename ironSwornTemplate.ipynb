{
 "cells": [
  {
   "cell_type": "code",
   "execution_count": 1,
   "id": "9360d55c-2ca2-425b-9446-0760bc675fd3",
   "metadata": {},
   "outputs": [
    {
     "data": {
      "application/javascript": [
       "\n",
       "    document.querySelector(\"#jp-NotebookLogo > svg:nth-child(1)\").remove()\n",
       "    let img = document.createElement('img');\n",
       "    img.src = \"https://static.wixstatic.com/media/4db827_66a45f3761ec478fa11c2ee044757ab8%7Emv2.png/v1/fill/w_32%2Ch_32%2Clg_1%2Cusm_0.66_1.00_0.01/4db827_66a45f3761ec478fa11c2ee044757ab8%7Emv2.png\";\n",
       "    document.querySelector(\"#jp-NotebookLogo\").append(img)\n"
      ],
      "text/plain": [
       "<IPython.core.display.Javascript object>"
      ]
     },
     "execution_count": 1,
     "metadata": {},
     "output_type": "execute_result"
    }
   ],
   "source": [
    "from IPython.display import Javascript\n",
    "Javascript(\"\"\"\n",
    "    document.querySelector(\"#jp-NotebookLogo > svg:nth-child(1)\").remove()\n",
    "    let img = document.createElement('img');\n",
    "    img.src = \"https://static.wixstatic.com/media/4db827_66a45f3761ec478fa11c2ee044757ab8%7Emv2.png/v1/fill/w_32%2Ch_32%2Clg_1%2Cusm_0.66_1.00_0.01/4db827_66a45f3761ec478fa11c2ee044757ab8%7Emv2.png\";\n",
    "    document.querySelector(\"#jp-NotebookLogo\").append(img)\n",
    "\"\"\")"
   ]
  },
  {
   "cell_type": "code",
   "execution_count": 2,
   "id": "05463b35-b113-403a-9495-ccd7ff1f59c9",
   "metadata": {},
   "outputs": [
    {
     "data": {
      "text/html": [
       "\n",
       "<style>\n",
       "    div.jp-Cell-inputWrapper:nth-child(3) > div:nth-child(1) > div:nth-child(1) { background-color:grey !important; }\n",
       "    div.jp-Cell-outputWrapper:nth-child(5) > div:nth-child(1) > div:nth-child(1) { background-color:transparent !important; }\n",
       "    div.jp-Cell-outputWrapper:nth-child(5) > div:nth-child(1) { background-color:transparent !important; }\n",
       "    div.lm-Widget {border-bottom-color:grey !important; }\n",
       "</style>\n"
      ],
      "text/plain": [
       "<IPython.core.display.HTML object>"
      ]
     },
     "execution_count": 2,
     "metadata": {},
     "output_type": "execute_result"
    }
   ],
   "source": [
    "from IPython.display import HTML\n",
    "HTML(\"\"\"\n",
    "<style>\n",
    "    div.jp-Cell-inputWrapper:nth-child(3) > div:nth-child(1) > div:nth-child(1) { background-color:grey !important; }\n",
    "    div.jp-Cell-outputWrapper:nth-child(5) > div:nth-child(1) > div:nth-child(1) { background-color:transparent !important; }\n",
    "    div.jp-Cell-outputWrapper:nth-child(5) > div:nth-child(1) { background-color:transparent !important; }\n",
    "    div.lm-Widget {border-bottom-color:grey !important; }\n",
    "</style>\n",
    "\"\"\")"
   ]
  },
  {
   "cell_type": "code",
   "execution_count": 3,
   "id": "12ed834b-de99-476c-b5a7-0881cfb035bf",
   "metadata": {},
   "outputs": [],
   "source": [
    "from playerActions import health, supply, spirit, momentum, printStatus, \\\n",
    "                          newEnemy, newJourney, newBond, newVow, \\\n",
    "                          progressEnemy, progressJourney, progressBond, progressVow, \\\n",
    "                          enemyInflictsHarm\n",
    "\n",
    "from gameModels import enemies, journeys, bonds, vows, \\\n",
    "                       progressByRank, inflictByRank, \\\n",
    "                       Progress"
   ]
  },
  {
   "cell_type": "code",
   "execution_count": 4,
   "id": "f75f3456-ca32-4873-8575-ae2dcc02db2e",
   "metadata": {},
   "outputs": [],
   "source": [
    "# Modify character and then load it\n",
    "import character"
   ]
  },
  {
   "cell_type": "markdown",
   "id": "4b28c010-ab16-4201-8dd9-fdb9a24a91b8",
   "metadata": {},
   "source": [
    "### NAME - Chandra\n",
    "\n",
    "### LOCATION - [54,62] \n",
    "\"defended foothills, Cinderhome\" - this is a rough group of Ironlanders who offer their services to the highest bidders. As part of this group, I have promised to never be a bandit. However, bandits and all enemies, including broken, are all fair game.\n"
   ]
  },
  {
   "cell_type": "markdown",
   "id": "dc68fe34-4d35-4053-a429-9557c864de29",
   "metadata": {},
   "source": [
    "### BACKGROUND VOW: (Extreme)\n",
    "- seize, coordinate, idea\n",
    "\n",
    "From a young age I have tried to see the Broken as people too. I am convinced that what they suffer is a disease, and there might be a cure. If I can meet scholars in the far reaches of the Ironlands then I might be able to peice together enough information to free these poor people from their condition.\n"
   ]
  },
  {
   "cell_type": "code",
   "execution_count": 5,
   "id": "a074d59f-2e3a-4260-80f9-afc73f2fcf4e",
   "metadata": {},
   "outputs": [
    {
     "name": "stdout",
     "output_type": "stream",
     "text": [
      "VOWS\n",
      "name:      Find Broken Cure\n",
      "rank:      extreme\n",
      "progress:  0\n",
      "---\n"
     ]
    }
   ],
   "source": [
    "newVow(\"Find Broken Cure\", \"extreme\")"
   ]
  },
  {
   "cell_type": "markdown",
   "id": "64950626-8680-43f9-a363-5151b24e4e10",
   "metadata": {},
   "source": [
    "### INCITING INCIDENT: (Dangerous)\n",
    "- breach, rumour, weakness, advance\n",
    "\n",
    "Our leader, Sidura, has heard rumours that a nearby bandit camp has a weakness in its exterior wall. My task will be to go and investigate this, and to see if it's true. The camp is guarded by patrols. I should scout around the entire perimeter to find anything of note.\n",
    "PROGRESS:\n"
   ]
  },
  {
   "cell_type": "code",
   "execution_count": 6,
   "id": "9d08f14c-44ab-4064-91c1-339c940d6aa6",
   "metadata": {},
   "outputs": [
    {
     "name": "stdout",
     "output_type": "stream",
     "text": [
      "VOWS\n",
      "name:      Find Broken Cure\n",
      "rank:      extreme\n",
      "progress:  0\n",
      "---\n",
      "name:      Scout Bandit Camp\n",
      "rank:      dangerous\n",
      "progress:  0\n",
      "---\n"
     ]
    }
   ],
   "source": [
    "newVow(\"Scout Bandit Camp\", \"dangerous\")"
   ]
  },
  {
   "cell_type": "markdown",
   "id": "d96e0475-0e72-42ff-b93d-6bd2aa811f30",
   "metadata": {},
   "source": [
    "### Bond (location)\n",
    "\n",
    "NAME            - Cinderhome\n",
    "\n",
    "RELATION        - home\n",
    "\n",
    "LOCATION        - [54, 62]"
   ]
  },
  {
   "cell_type": "code",
   "execution_count": 7,
   "id": "810fd1bb-c10c-427d-9f7a-3fae8cdcf9e7",
   "metadata": {},
   "outputs": [
    {
     "name": "stdout",
     "output_type": "stream",
     "text": [
      "BONDS\n",
      "name:      allBonds\n",
      "progress:  0.25\n",
      "---\n"
     ]
    }
   ],
   "source": [
    "newBond()"
   ]
  },
  {
   "cell_type": "markdown",
   "id": "76ec6ed3-6039-4e71-b65a-d00ed895dbe1",
   "metadata": {},
   "source": [
    "### Bond (person)\n",
    "\n",
    "NAME            - Shekar\n",
    "\n",
    "RELATION        - Friend\n",
    "\n",
    "ROLE            - Former raider turned raider hunter\n",
    "\n",
    "DISPOSITION     - Friendly\n",
    "\n",
    "CHARACTERISTICS - Fervent, agreeable, manipulative.\n",
    "\n",
    "LOCATION        - Cinderhome"
   ]
  },
  {
   "cell_type": "code",
   "execution_count": 8,
   "id": "001d5139-1477-4711-8093-bffe08afe015",
   "metadata": {},
   "outputs": [
    {
     "name": "stdout",
     "output_type": "stream",
     "text": [
      "BONDS\n",
      "name:      allBonds\n",
      "progress:  0.5\n",
      "---\n"
     ]
    }
   ],
   "source": [
    "newBond()"
   ]
  },
  {
   "cell_type": "markdown",
   "id": "ec2bf812-3527-46a1-b72e-890973a0fcd7",
   "metadata": {},
   "source": [
    "### Bond (person)\n",
    "\n",
    "NAME            - Gethin\n",
    "\n",
    "RELATION        - Sister\n",
    "\n",
    "ROLE            - Thief, famous\n",
    "\n",
    "DISPOSITION     - Indifferent\n",
    "\n",
    "CHARACTERISTICS - Ugly, critical, infamous.\n",
    "\n",
    "LOCATION        - Unknown, travels"
   ]
  },
  {
   "cell_type": "code",
   "execution_count": 9,
   "id": "7ae6106d-508c-49ac-8eee-99013dfb8f44",
   "metadata": {},
   "outputs": [
    {
     "name": "stdout",
     "output_type": "stream",
     "text": [
      "BONDS\n",
      "name:      allBonds\n",
      "progress:  0.75\n",
      "---\n"
     ]
    }
   ],
   "source": [
    "newBond()"
   ]
  },
  {
   "cell_type": "markdown",
   "id": "85c6ed1d-cd02-4952-94c9-21fa6bc393be",
   "metadata": {},
   "source": [
    "### Bond (person)\n",
    "\n",
    "NAME            - Beca\n",
    "\n",
    "RELATION        - Friend\n",
    "\n",
    "ROLE            - Herder\n",
    "\n",
    "DISPOSITION     - Demanding\n",
    "\n",
    "CHARACTERISTICS - stern, wounded, religious\n",
    "\n",
    "LOCATION        - A steading, north of Cinderhome"
   ]
  },
  {
   "cell_type": "code",
   "execution_count": 10,
   "id": "26a90445-2b75-4136-bf3f-273ba2eb1084",
   "metadata": {},
   "outputs": [
    {
     "name": "stdout",
     "output_type": "stream",
     "text": [
      "BONDS\n",
      "name:      allBonds\n",
      "progress:  1.0\n",
      "---\n"
     ]
    }
   ],
   "source": [
    "newBond()"
   ]
  },
  {
   "cell_type": "markdown",
   "id": "9177af28-0c00-476a-a967-61ef90359058",
   "metadata": {},
   "source": [
    "### ADVENTURE BEGINS ~\n",
    "\n",
    "I begin without a weapon, as times are dire. Upon fulfilling my quest, I could ask Sidura for one.\n",
    "\n",
    "Reaching the camp should be a dangerous journey"
   ]
  },
  {
   "cell_type": "markdown",
   "id": "1ded81c6-7f3f-4dfe-9cf9-bfeaef6b527d",
   "metadata": {},
   "source": [
    "The first thing I do is ask Shekar where the camp is\n",
    "\n",
    "GI\n",
    "\n",
    "miss\n",
    "\n",
    "PTP - the camp is now further than I thought\n",
    "\n",
    "Shekar tells me the road is unusually full of brigands lately and that I should go slowly and carefully. I thank him and am on my way."
   ]
  },
  {
   "cell_type": "markdown",
   "id": "ffcb8d7b-135b-4ec6-9125-77b9b866b389",
   "metadata": {},
   "source": [
    "\n",
    "I set off in the direction that Shekar told me. This is now a formidible journey.\n",
    "\n",
    "UAJ\n",
    "\n",
    "+1 swift (horse), +1 bond\n",
    "\n",
    "weak hit"
   ]
  },
  {
   "cell_type": "code",
   "execution_count": 11,
   "id": "49a79ec1-c06e-4239-8425-e746d3ef2efa",
   "metadata": {},
   "outputs": [
    {
     "name": "stdout",
     "output_type": "stream",
     "text": [
      "JOURNEYS\n",
      "name:      Towards bandit camp\n",
      "rank:      formidible\n",
      "progress:  0\n",
      "---\n",
      "JOURNEYS\n",
      "name:      Towards bandit camp\n",
      "rank:      formidible\n",
      "progress:  1\n",
      "---\n",
      "{'health': 5, 'spirit': 5, 'supply': 4, 'momentum': 2}\n"
     ]
    }
   ],
   "source": [
    "newJourney(\"Towards bandit camp\", \"formidible\")\n",
    "progressJourney(\"Towards bandit camp\")\n",
    "supply(-1)"
   ]
  },
  {
   "cell_type": "markdown",
   "id": "59cf68eb-d8f1-4d59-a418-f145c49a0af0",
   "metadata": {},
   "source": [
    "The initial progress is hard, being rough terrain up a mountain. I reach [53, 62]"
   ]
  },
  {
   "cell_type": "markdown",
   "id": "b10a5210-0ea3-478a-a9e3-ab1da0c458e5",
   "metadata": {},
   "source": [
    "I move to some more foothills. It seems if I took a better road in the first place, I could have reached this place more easily. Time to press on.\n",
    "\n",
    "UAJ\n",
    "\n",
    "+1 swift (horse)\n",
    "\n",
    "strong hit"
   ]
  },
  {
   "cell_type": "code",
   "execution_count": 12,
   "id": "408b1232-e90d-43b2-bb68-b8d8f5106312",
   "metadata": {},
   "outputs": [
    {
     "name": "stdout",
     "output_type": "stream",
     "text": [
      "JOURNEYS\n",
      "name:      Towards bandit camp\n",
      "rank:      formidible\n",
      "progress:  2\n",
      "---\n",
      "JOURNEYS\n",
      "name:      Towards bandit camp\n",
      "rank:      formidible\n",
      "progress:  3\n",
      "---\n",
      "{'health': 5, 'spirit': 5, 'supply': 3, 'momentum': 2}\n"
     ]
    }
   ],
   "source": [
    "progressJourney(\"Towards bandit camp\")\n",
    "\n",
    "# Take extra progress\n",
    "progressJourney(\"Towards bandit camp\")\n",
    "\n",
    "supply(-1)"
   ]
  },
  {
   "cell_type": "markdown",
   "id": "1c194c31-e1b5-47f9-adda-009ec06c3318",
   "metadata": {},
   "source": [
    "We make good progress but did not stop to gather edibles, so I deplete my supply of food.\n",
    "\n",
    "I move to [52, 63], which is a dense forest. I should be on my guard\n"
   ]
  },
  {
   "cell_type": "markdown",
   "id": "765b0de5-5d36-4612-b828-9a26fb76f52a",
   "metadata": {},
   "source": [
    "The forest here is dense but there is a road leading through it. I press on.\n",
    "\n",
    "UAJ\n",
    "\n",
    "+1 swift\n",
    "\n",
    "weak hit\n"
   ]
  },
  {
   "cell_type": "markdown",
   "id": "0c02586a-c535-415e-90e6-438efecc2988",
   "metadata": {},
   "source": [
    "progressJourney(\"Towards bandit camp\")\n",
    "supply(-1)"
   ]
  },
  {
   "cell_type": "markdown",
   "id": "2fc91db0-08ab-4a95-84a4-950c8d30411e",
   "metadata": {},
   "source": [
    "I move out of the forest into a protected hill at [51, 63]. There seems to be pallisades here and it seems inhabited. I call out. I hear no reply.\n"
   ]
  },
  {
   "cell_type": "markdown",
   "id": "f2684859-8d3b-4bec-9eb5-f50586230ece",
   "metadata": {},
   "source": [
    "The pallisade area doesn't seem to have people who will answer, but maybe I can try again in future. I note the location and hopefully I will find people here in future.\n",
    "\n",
    "UAJ\n",
    "\n",
    "+1 swift (horse)\n",
    "\n",
    "weak hit"
   ]
  },
  {
   "cell_type": "code",
   "execution_count": 13,
   "id": "558fe09a-5ca9-4d98-9e54-e375f99e7e90",
   "metadata": {},
   "outputs": [
    {
     "name": "stdout",
     "output_type": "stream",
     "text": [
      "JOURNEYS\n",
      "name:      Towards bandit camp\n",
      "rank:      formidible\n",
      "progress:  4\n",
      "---\n",
      "{'health': 5, 'spirit': 5, 'supply': 2, 'momentum': 2}\n"
     ]
    }
   ],
   "source": [
    "progressJourney(\"Towards bandit camp\")\n",
    "supply(-1)"
   ]
  },
  {
   "cell_type": "markdown",
   "id": "cbab9c84-5706-4e47-b5dc-97b9376f5605",
   "metadata": {},
   "source": [
    "I move to [50, 64]. This is a cave, and it is abundant with mushrooms. This would be an excellent place to forage."
   ]
  },
  {
   "cell_type": "markdown",
   "id": "320c7f99-82bb-432e-8e39-883085027481",
   "metadata": {},
   "source": [
    "I take some time to pick mushrooms.\n",
    "\n",
    "RESUPPLY\n",
    "weak hit"
   ]
  },
  {
   "cell_type": "code",
   "execution_count": 14,
   "id": "55674ed7-6796-4c7b-ae3d-c3e3e850778d",
   "metadata": {},
   "outputs": [
    {
     "name": "stdout",
     "output_type": "stream",
     "text": [
      "{'health': 5, 'spirit': 5, 'supply': 4, 'momentum': 2}\n",
      "{'health': 5, 'spirit': 5, 'supply': 4, 'momentum': 0}\n"
     ]
    }
   ],
   "source": [
    "supply(2) \n",
    "momentum(-2)"
   ]
  },
  {
   "cell_type": "markdown",
   "id": "a7371251-faaf-43b6-b140-b80f355ff6de",
   "metadata": {},
   "source": [
    "I feel that this foraging has set me back, in terms of time and willpower.\n"
   ]
  },
  {
   "cell_type": "markdown",
   "id": "dfd57958-bb9c-4ec1-81b6-983053ac727a",
   "metadata": {},
   "source": [
    "I decide to rest in the cave.\n",
    "\n",
    "MC\n",
    "\n",
    "Miss\n",
    "\n",
    "The cave, it seems, is not uninhabited. A group of broken emerge."
   ]
  },
  {
   "cell_type": "code",
   "execution_count": 15,
   "id": "c8867bb1-05f8-47bc-b129-a0cde4a21040",
   "metadata": {},
   "outputs": [
    {
     "name": "stdout",
     "output_type": "stream",
     "text": [
      "ENEMIES\n",
      "name:      Group of broken\n",
      "rank:      dangerous\n",
      "progress:  0\n",
      "---\n"
     ]
    }
   ],
   "source": [
    "newEnemy(\"Group of broken\", \"dangerous\")"
   ]
  },
  {
   "cell_type": "markdown",
   "id": "3341a0ff-f8ce-4dad-b3c4-6a1000316660",
   "metadata": {},
   "source": [
    "The enemies and I seem to be surprised at each other, and simultaneously, we prepare for a fight.\n",
    "\n",
    "ETF\n",
    "\n",
    "weak miss\n",
    "\n",
    "I take the initiative\n",
    "\n",
    "I pick up a heavy rock that feels like it will fly straight"
   ]
  },
  {
   "cell_type": "markdown",
   "id": "34fbac7d-901e-4d32-b860-a51006f9e448",
   "metadata": {},
   "source": [
    "I hurl the rock at the nearest broken.\n",
    "\n",
    "STRIKE\n",
    "\n",
    "Miss\n",
    "\n",
    "ENDURE HARM\n",
    "\n",
    "miss\n"
   ]
  },
  {
   "cell_type": "code",
   "execution_count": 16,
   "id": "c22ba5bb-b79a-43bf-8c80-e34b2d16b06d",
   "metadata": {},
   "outputs": [
    {
     "name": "stdout",
     "output_type": "stream",
     "text": [
      "{'health': 3, 'spirit': 5, 'supply': 4, 'momentum': 0}\n"
     ]
    }
   ],
   "source": [
    "enemyInflictsHarm(\"Group of broken\")"
   ]
  },
  {
   "cell_type": "code",
   "execution_count": 17,
   "id": "a720f326-6e4b-4d6c-bd0e-7e0e6ca6ea6c",
   "metadata": {},
   "outputs": [
    {
     "name": "stdout",
     "output_type": "stream",
     "text": [
      "{'health': 3, 'spirit': 5, 'supply': 4, 'momentum': -1}\n"
     ]
    }
   ],
   "source": [
    "momentum(-1)"
   ]
  },
  {
   "cell_type": "markdown",
   "id": "b6a4da0a-378a-4ea5-82c1-304a52634abf",
   "metadata": {},
   "source": [
    "Things look bad and I need to escape. I make a shrieking sound, which startles the broken in this small space."
   ]
  },
  {
   "cell_type": "markdown",
   "id": "e32f02f6-34ae-4b27-89ee-db8d56296501",
   "metadata": {},
   "source": [
    "I use this moment to jump on the horse outside, to flee. I have initiative. +1 for next roll.\n",
    "\n",
    "FACE DANGER\n",
    "\n",
    "+1 from TURN THE TIDE\n",
    "\n",
    "+1 from swift, horse\n",
    "\n",
    "Strong hit\n",
    "\n",
    "This means I get +1 momentum from TURN THE TIDE\n",
    "\n",
    "Also +1 momentum from a hit"
   ]
  },
  {
   "cell_type": "code",
   "execution_count": 18,
   "id": "75074155-1564-4220-8ada-65958c2eb18f",
   "metadata": {},
   "outputs": [
    {
     "name": "stdout",
     "output_type": "stream",
     "text": [
      "{'health': 3, 'spirit': 5, 'supply': 4, 'momentum': 1}\n"
     ]
    }
   ],
   "source": [
    "momentum(2)"
   ]
  },
  {
   "cell_type": "code",
   "execution_count": null,
   "id": "ca5e7651-bfb6-4225-b4d3-2d8904f6d08c",
   "metadata": {},
   "outputs": [],
   "source": []
  }
 ],
 "metadata": {
  "kernelspec": {
   "display_name": "Python 3 (ipykernel)",
   "language": "python",
   "name": "python3"
  },
  "language_info": {
   "codemirror_mode": {
    "name": "ipython",
    "version": 3
   },
   "file_extension": ".py",
   "mimetype": "text/x-python",
   "name": "python",
   "nbconvert_exporter": "python",
   "pygments_lexer": "ipython3",
   "version": "3.10.12"
  }
 },
 "nbformat": 4,
 "nbformat_minor": 5
}
